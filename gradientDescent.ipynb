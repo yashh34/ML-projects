{
 "cells": [
  {
   "cell_type": "code",
   "execution_count": 1,
   "id": "d7c5b1c0-c73a-490e-bae1-2bc22913f786",
   "metadata": {},
   "outputs": [
    {
     "name": "stdout",
     "output_type": "stream",
     "text": [
      "iteration 1: x = 1.1 , y = 16.81\n",
      "iteration 2: x = 0.3620000000000002 , y = 11.303044\n",
      "iteration 3: x = -0.24315999999999982 , y = 7.600166785600003\n",
      "iteration 4: x = -0.7393911999999998 , y = 5.11035214663744\n",
      "iteration 5: x = -1.1463007839999997 , y = 3.436200783399016\n",
      "iteration 6: x = -1.4799666428799998 , y = 2.3105014067574983\n",
      "iteration 7: x = -1.7535726471615998 , y = 1.5535811459037419\n",
      "iteration 8: x = -1.9779295706725117 , y = 1.0446279625056762\n",
      "iteration 9: x = -2.16190224795146 , y = 0.7024078419888163\n",
      "iteration 10: x = -2.312759843320197 , y = 0.47229903295328013\n",
      "Local minimum found at x: x = -2.312759843320197 , y = 0.47229903295328013\n"
     ]
    }
   ],
   "source": [
    " def gradient_desecent (starting_point,learning_rate,Num_iteration):\n",
    "     \n",
    "     x=starting_point\n",
    "     \n",
    "     for i in range (Num_iteration):\n",
    "              \n",
    "         gradient =  2 * (x+3) # Calculate the gradient\n",
    "         x = x - learning_rate*gradient # Update Xnew,formula xnew = xold - learning\n",
    "         \n",
    "         print(f\"iteration {i+1}: x = {x} , y = {(x+3)**2}\")\n",
    "         \n",
    "     return x\n",
    "     \n",
    " # Parameters\n",
    " starting_point=2\n",
    " learning_rate=0.09\n",
    " Num_iteration=10\n",
    "\n",
    "\n",
    " #final X\n",
    " final_x = gradient_desecent (starting_point,learning_rate,Num_iteration)\n",
    " print(f\"Local minimum found at x: x = {final_x} , y = {(final_x+3)**2}\")"
   ]
  },
  {
   "cell_type": "code",
   "execution_count": null,
   "id": "20eb518f-9321-4d82-8913-2a22532d51f1",
   "metadata": {},
   "outputs": [],
   "source": []
  }
 ],
 "metadata": {
  "kernelspec": {
   "display_name": "Python 3 (ipykernel)",
   "language": "python",
   "name": "python3"
  },
  "language_info": {
   "codemirror_mode": {
    "name": "ipython",
    "version": 3
   },
   "file_extension": ".py",
   "mimetype": "text/x-python",
   "name": "python",
   "nbconvert_exporter": "python",
   "pygments_lexer": "ipython3",
   "version": "3.11.7"
  }
 },
 "nbformat": 4,
 "nbformat_minor": 5
}
