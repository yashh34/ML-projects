{
 "cells": [
  {
   "cell_type": "code",
   "execution_count": 2,
   "id": "28b750bf-5bad-4b74-bddd-f59516791b5a",
   "metadata": {},
   "outputs": [],
   "source": [
    "import pandas as pd\n",
    "from sklearn.model_selection import train_test_split\n",
    "from sklearn.feature_extraction.text import TfidfVectorizer\n",
    "from sklearn.neighbors import KNeighborsClassifier\n",
    "from sklearn.svm import SVC\n",
    "from sklearn.metrics import classification_report, confusion_matrix"
   ]
  },
  {
   "cell_type": "code",
   "execution_count": 3,
   "id": "9ea6a98c-de9e-4308-ab9a-50fb4addc5ee",
   "metadata": {},
   "outputs": [],
   "source": [
    " # Load dataset\n",
    " data = pd.read_csv('emails.csv')"
   ]
  },
  {
   "cell_type": "code",
   "execution_count": 4,
   "id": "7bce719d-9a25-4f0a-943e-f954c1b90b6c",
   "metadata": {},
   "outputs": [
    {
     "name": "stdout",
     "output_type": "stream",
     "text": [
      "  Email No.  the  to  ect  and  for  of    a  you  hou  ...  connevey  jay  \\\n",
      "0   Email 1    0   0    1    0    0   0    2    0    0  ...         0    0   \n",
      "1   Email 2    8  13   24    6    6   2  102    1   27  ...         0    0   \n",
      "2   Email 3    0   0    1    0    0   0    8    0    0  ...         0    0   \n",
      "3   Email 4    0   5   22    0    5   1   51    2   10  ...         0    0   \n",
      "4   Email 5    7   6   17    1    5   2   57    0    9  ...         0    0   \n",
      "\n",
      "   valued  lay  infrastructure  military  allowing  ff  dry  Prediction  \n",
      "0       0    0               0         0         0   0    0           0  \n",
      "1       0    0               0         0         0   1    0           0  \n",
      "2       0    0               0         0         0   0    0           0  \n",
      "3       0    0               0         0         0   0    0           0  \n",
      "4       0    0               0         0         0   1    0           0  \n",
      "\n",
      "[5 rows x 3002 columns]\n"
     ]
    }
   ],
   "source": [
    " # Explore the dataset\n",
    " print(data.head())"
   ]
  },
  {
   "cell_type": "code",
   "execution_count": 5,
   "id": "83f7049d-6509-4dde-9f36-01feedac5236",
   "metadata": {},
   "outputs": [
    {
     "name": "stdout",
     "output_type": "stream",
     "text": [
      "<class 'pandas.core.frame.DataFrame'>\n",
      "RangeIndex: 5172 entries, 0 to 5171\n",
      "Columns: 3002 entries, Email No. to Prediction\n",
      "dtypes: int64(3001), object(1)\n",
      "memory usage: 118.5+ MB\n"
     ]
    }
   ],
   "source": [
    "data.info()"
   ]
  },
  {
   "cell_type": "code",
   "execution_count": 6,
   "id": "03482b8e-349b-4b45-b6cb-83c27cdae694",
   "metadata": {},
   "outputs": [
    {
     "data": {
      "text/plain": [
       "Email No.     False\n",
       "the           False\n",
       "to            False\n",
       "ect           False\n",
       "and           False\n",
       "              ...  \n",
       "military      False\n",
       "allowing      False\n",
       "ff            False\n",
       "dry           False\n",
       "Prediction    False\n",
       "Length: 3002, dtype: bool"
      ]
     },
     "execution_count": 6,
     "metadata": {},
     "output_type": "execute_result"
    }
   ],
   "source": [
    "data.isnull().any()"
   ]
  },
  {
   "cell_type": "code",
   "execution_count": 7,
   "id": "adb4be0b-4bdc-4f80-8c2c-6d241fc58e75",
   "metadata": {},
   "outputs": [],
   "source": [
    " data['email_content'] = (\n",
    "    data['the'].astype(str) + ' ' +\n",
    "    data['to'].astype(str) + ' ' +\n",
    "    data['ect'].astype(str) + ' ' +\n",
    "    data['and'].astype(str) + ' ' +\n",
    "    data['military'].astype(str) + ' ' +\n",
    "    data['allowing'].astype(str) + ' ' +\n",
    "    data['ff'].astype(str) + ' ' +\n",
    "    data['dry'].astype(str)\n",
    " )"
   ]
  },
  {
   "cell_type": "code",
   "execution_count": 8,
   "id": "6bd45538-ac9f-4ef0-bffd-4eeefe7d971e",
   "metadata": {},
   "outputs": [],
   "source": [
    " # Define features and target\n",
    " X = data['email_content']\n",
    " y = data['Prediction']  # Make sure this is the correct target column"
   ]
  },
  {
   "cell_type": "code",
   "execution_count": 9,
   "id": "c24855ac-bc9b-4362-b582-44daa5d30340",
   "metadata": {},
   "outputs": [],
   "source": [
    " # Vectorize the text data\n",
    " vectorizer = TfidfVectorizer()\n",
    " X_vectorized = vectorizer.fit_transform(X)"
   ]
  },
  {
   "cell_type": "code",
   "execution_count": 12,
   "id": "813d9aa4-1ccb-47b9-8941-cf13a352429c",
   "metadata": {},
   "outputs": [],
   "source": [
    " X_train, X_test, y_train, y_test = train_test_split(X_vectorized, y, test_size=0.2,random_state=42)"
   ]
  },
  {
   "cell_type": "code",
   "execution_count": 13,
   "id": "a4c0b73d-8948-4b62-ba64-b5b36aa33e7b",
   "metadata": {},
   "outputs": [],
   "source": [
    "\n",
    " knn = KNeighborsClassifier(n_neighbors=5)\n",
    " knn.fit(X_train, y_train)\n",
    " y_pred_knn = knn.predict(X_test)"
   ]
  },
  {
   "cell_type": "code",
   "execution_count": 14,
   "id": "6a8640a8-ae08-45d4-b969-ebe1ff58abe1",
   "metadata": {},
   "outputs": [
    {
     "name": "stdout",
     "output_type": "stream",
     "text": [
      "KNN Classification Report:\n",
      "               precision    recall  f1-score   support\n",
      "\n",
      "           0       0.72      0.96      0.82       739\n",
      "           1       0.32      0.05      0.09       296\n",
      "\n",
      "    accuracy                           0.70      1035\n",
      "   macro avg       0.52      0.50      0.45      1035\n",
      "weighted avg       0.60      0.70      0.61      1035\n",
      "\n",
      "KNN Confusion Matrix:\n",
      " [[707  32]\n",
      " [281  15]]\n"
     ]
    }
   ],
   "source": [
    " print(\"KNN Classification Report:\\n\", classification_report(y_test, y_pred_knn))\n",
    " print(\"KNN Confusion Matrix:\\n\", confusion_matrix(y_test, y_pred_knn))"
   ]
  },
  {
   "cell_type": "code",
   "execution_count": 15,
   "id": "6b48c9f4-b11a-4419-80f6-36e515ca4e08",
   "metadata": {},
   "outputs": [],
   "source": [
    " svm = SVC()\n",
    " svm.fit(X_train, y_train)\n",
    " y_pred_svm = svm.predict(X_test)"
   ]
  },
  {
   "cell_type": "code",
   "execution_count": 16,
   "id": "e2b02eae-ca19-4614-8ac1-003e4808cca7",
   "metadata": {},
   "outputs": [
    {
     "name": "stdout",
     "output_type": "stream",
     "text": [
      "SVM Classification Report:\n",
      "               precision    recall  f1-score   support\n",
      "\n",
      "           0       0.72      1.00      0.83       739\n",
      "           1       0.50      0.01      0.02       296\n",
      "\n",
      "    accuracy                           0.71      1035\n",
      "   macro avg       0.61      0.50      0.43      1035\n",
      "weighted avg       0.65      0.71      0.60      1035\n",
      "\n",
      "SVM Confusion Matrix:\n",
      " [[736   3]\n",
      " [293   3]]\n"
     ]
    }
   ],
   "source": [
    " print(\"SVM Classification Report:\\n\", classification_report(y_test, y_pred_svm))\n",
    " print(\"SVM Confusion Matrix:\\n\", confusion_matrix(y_test, y_pred_svm))"
   ]
  },
  {
   "cell_type": "code",
   "execution_count": null,
   "id": "6e18ae26-7abf-450f-b45a-9e92efe222b3",
   "metadata": {},
   "outputs": [],
   "source": []
  }
 ],
 "metadata": {
  "kernelspec": {
   "display_name": "Python 3 (ipykernel)",
   "language": "python",
   "name": "python3"
  },
  "language_info": {
   "codemirror_mode": {
    "name": "ipython",
    "version": 3
   },
   "file_extension": ".py",
   "mimetype": "text/x-python",
   "name": "python",
   "nbconvert_exporter": "python",
   "pygments_lexer": "ipython3",
   "version": "3.11.7"
  }
 },
 "nbformat": 4,
 "nbformat_minor": 5
}
